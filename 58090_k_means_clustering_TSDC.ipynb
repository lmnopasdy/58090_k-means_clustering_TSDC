{
  "nbformat": 4,
  "nbformat_minor": 0,
  "metadata": {
    "colab": {
      "name": "k-means_clustering.ipynb",
      "provenance": [],
      "collapsed_sections": []
    },
    "kernelspec": {
      "name": "python3",
      "display_name": "Python 3"
    },
    "language_info": {
      "name": "python"
    }
  },
  "cells": [
    {
      "cell_type": "code",
      "metadata": {
        "id": "5E6I43uzaZee"
      },
      "source": [
        "import numpy as np\n",
        "import pandas as pd\n",
        "import statsmodels.api as sm\n",
        "import matplotlib.pyplot as plt\n",
        "import seaborn as sns\n",
        "sns.set()\n",
        "from sklearn.cluster import KMeans\n"
      ],
      "execution_count": null,
      "outputs": []
    },
    {
      "cell_type": "code",
      "metadata": {
        "colab": {
          "base_uri": "https://localhost:8080/",
          "height": 602
        },
        "id": "Vw9-BSlxhkO_",
        "outputId": "1b2058db-8f98-42e1-9d5f-ae6fe3a02d13"
      },
      "source": [
        "df = pd.read_csv('Barangay.csv')\n",
        "df"
      ],
      "execution_count": null,
      "outputs": [
        {
          "output_type": "execute_result",
          "data": {
            "text/html": [
              "<div>\n",
              "<style scoped>\n",
              "    .dataframe tbody tr th:only-of-type {\n",
              "        vertical-align: middle;\n",
              "    }\n",
              "\n",
              "    .dataframe tbody tr th {\n",
              "        vertical-align: top;\n",
              "    }\n",
              "\n",
              "    .dataframe thead th {\n",
              "        text-align: right;\n",
              "    }\n",
              "</style>\n",
              "<table border=\"1\" class=\"dataframe\">\n",
              "  <thead>\n",
              "    <tr style=\"text-align: right;\">\n",
              "      <th></th>\n",
              "      <th>Barangay</th>\n",
              "      <th>Latitude</th>\n",
              "      <th>Longitude</th>\n",
              "    </tr>\n",
              "  </thead>\n",
              "  <tbody>\n",
              "    <tr>\n",
              "      <th>0</th>\n",
              "      <td>Almanza Dos</td>\n",
              "      <td>14.403200</td>\n",
              "      <td>121.008300</td>\n",
              "    </tr>\n",
              "    <tr>\n",
              "      <th>1</th>\n",
              "      <td>Almanza Uno</td>\n",
              "      <td>14.432100</td>\n",
              "      <td>121.014000</td>\n",
              "    </tr>\n",
              "    <tr>\n",
              "      <th>2</th>\n",
              "      <td>B.F International Village</td>\n",
              "      <td>14.450800</td>\n",
              "      <td>121.005500</td>\n",
              "    </tr>\n",
              "    <tr>\n",
              "      <th>3</th>\n",
              "      <td>Daniel Fajardo</td>\n",
              "      <td>14.480700</td>\n",
              "      <td>120.981200</td>\n",
              "    </tr>\n",
              "    <tr>\n",
              "      <th>4</th>\n",
              "      <td>Elias Aldana</td>\n",
              "      <td>14.478700</td>\n",
              "      <td>120.976900</td>\n",
              "    </tr>\n",
              "    <tr>\n",
              "      <th>5</th>\n",
              "      <td>Ilaya</td>\n",
              "      <td>14.477900</td>\n",
              "      <td>120.980100</td>\n",
              "    </tr>\n",
              "    <tr>\n",
              "      <th>6</th>\n",
              "      <td>Manuyo Dos</td>\n",
              "      <td>14.467700</td>\n",
              "      <td>120.994800</td>\n",
              "    </tr>\n",
              "    <tr>\n",
              "      <th>7</th>\n",
              "      <td>Manuyo Uno</td>\n",
              "      <td>14.479300</td>\n",
              "      <td>120.986200</td>\n",
              "    </tr>\n",
              "    <tr>\n",
              "      <th>8</th>\n",
              "      <td>Pamplona Dos</td>\n",
              "      <td>14.447400</td>\n",
              "      <td>120.974700</td>\n",
              "    </tr>\n",
              "    <tr>\n",
              "      <th>9</th>\n",
              "      <td>Pamplona Uno</td>\n",
              "      <td>14.458100</td>\n",
              "      <td>120.971900</td>\n",
              "    </tr>\n",
              "    <tr>\n",
              "      <th>10</th>\n",
              "      <td>Pamplona Tres</td>\n",
              "      <td>14.452000</td>\n",
              "      <td>120.984600</td>\n",
              "    </tr>\n",
              "    <tr>\n",
              "      <th>11</th>\n",
              "      <td>Pilar</td>\n",
              "      <td>14.422000</td>\n",
              "      <td>121.008200</td>\n",
              "    </tr>\n",
              "    <tr>\n",
              "      <th>12</th>\n",
              "      <td>Talon Dos</td>\n",
              "      <td>14.437400</td>\n",
              "      <td>120.990600</td>\n",
              "    </tr>\n",
              "    <tr>\n",
              "      <th>13</th>\n",
              "      <td>Talon Kuatro</td>\n",
              "      <td>14.435900</td>\n",
              "      <td>121.000500</td>\n",
              "    </tr>\n",
              "    <tr>\n",
              "      <th>14</th>\n",
              "      <td>Talon Tres</td>\n",
              "      <td>14.443200</td>\n",
              "      <td>121.003400</td>\n",
              "    </tr>\n",
              "    <tr>\n",
              "      <th>15</th>\n",
              "      <td>Talon Uno</td>\n",
              "      <td>14.445335</td>\n",
              "      <td>120.988404</td>\n",
              "    </tr>\n",
              "    <tr>\n",
              "      <th>16</th>\n",
              "      <td>Talon Singko</td>\n",
              "      <td>14.420500</td>\n",
              "      <td>121.002500</td>\n",
              "    </tr>\n",
              "    <tr>\n",
              "      <th>17</th>\n",
              "      <td>Zapote</td>\n",
              "      <td>14.450560</td>\n",
              "      <td>120.982780</td>\n",
              "    </tr>\n",
              "  </tbody>\n",
              "</table>\n",
              "</div>"
            ],
            "text/plain": [
              "                     Barangay   Latitude   Longitude\n",
              "0                 Almanza Dos  14.403200  121.008300\n",
              "1                 Almanza Uno  14.432100  121.014000\n",
              "2   B.F International Village  14.450800  121.005500\n",
              "3              Daniel Fajardo  14.480700  120.981200\n",
              "4                Elias Aldana  14.478700  120.976900\n",
              "5                       Ilaya  14.477900  120.980100\n",
              "6                  Manuyo Dos  14.467700  120.994800\n",
              "7                  Manuyo Uno  14.479300  120.986200\n",
              "8                Pamplona Dos  14.447400  120.974700\n",
              "9                Pamplona Uno  14.458100  120.971900\n",
              "10              Pamplona Tres  14.452000  120.984600\n",
              "11                      Pilar  14.422000  121.008200\n",
              "12                  Talon Dos  14.437400  120.990600\n",
              "13               Talon Kuatro  14.435900  121.000500\n",
              "14                 Talon Tres  14.443200  121.003400\n",
              "15                  Talon Uno  14.445335  120.988404\n",
              "16               Talon Singko  14.420500  121.002500\n",
              "17                     Zapote  14.450560  120.982780"
            ]
          },
          "metadata": {},
          "execution_count": 24
        }
      ]
    },
    {
      "cell_type": "code",
      "metadata": {
        "colab": {
          "base_uri": "https://localhost:8080/",
          "height": 602
        },
        "id": "VGT6u84pmxXd",
        "outputId": "1493a24d-6a06-437f-ad1e-c5188094fc26"
      },
      "source": [
        "x = df.iloc[:,1:3] \n",
        "x"
      ],
      "execution_count": null,
      "outputs": [
        {
          "output_type": "execute_result",
          "data": {
            "text/html": [
              "<div>\n",
              "<style scoped>\n",
              "    .dataframe tbody tr th:only-of-type {\n",
              "        vertical-align: middle;\n",
              "    }\n",
              "\n",
              "    .dataframe tbody tr th {\n",
              "        vertical-align: top;\n",
              "    }\n",
              "\n",
              "    .dataframe thead th {\n",
              "        text-align: right;\n",
              "    }\n",
              "</style>\n",
              "<table border=\"1\" class=\"dataframe\">\n",
              "  <thead>\n",
              "    <tr style=\"text-align: right;\">\n",
              "      <th></th>\n",
              "      <th>Latitude</th>\n",
              "      <th>Longitude</th>\n",
              "    </tr>\n",
              "  </thead>\n",
              "  <tbody>\n",
              "    <tr>\n",
              "      <th>0</th>\n",
              "      <td>14.403200</td>\n",
              "      <td>121.008300</td>\n",
              "    </tr>\n",
              "    <tr>\n",
              "      <th>1</th>\n",
              "      <td>14.432100</td>\n",
              "      <td>121.014000</td>\n",
              "    </tr>\n",
              "    <tr>\n",
              "      <th>2</th>\n",
              "      <td>14.450800</td>\n",
              "      <td>121.005500</td>\n",
              "    </tr>\n",
              "    <tr>\n",
              "      <th>3</th>\n",
              "      <td>14.480700</td>\n",
              "      <td>120.981200</td>\n",
              "    </tr>\n",
              "    <tr>\n",
              "      <th>4</th>\n",
              "      <td>14.478700</td>\n",
              "      <td>120.976900</td>\n",
              "    </tr>\n",
              "    <tr>\n",
              "      <th>5</th>\n",
              "      <td>14.477900</td>\n",
              "      <td>120.980100</td>\n",
              "    </tr>\n",
              "    <tr>\n",
              "      <th>6</th>\n",
              "      <td>14.467700</td>\n",
              "      <td>120.994800</td>\n",
              "    </tr>\n",
              "    <tr>\n",
              "      <th>7</th>\n",
              "      <td>14.479300</td>\n",
              "      <td>120.986200</td>\n",
              "    </tr>\n",
              "    <tr>\n",
              "      <th>8</th>\n",
              "      <td>14.447400</td>\n",
              "      <td>120.974700</td>\n",
              "    </tr>\n",
              "    <tr>\n",
              "      <th>9</th>\n",
              "      <td>14.458100</td>\n",
              "      <td>120.971900</td>\n",
              "    </tr>\n",
              "    <tr>\n",
              "      <th>10</th>\n",
              "      <td>14.452000</td>\n",
              "      <td>120.984600</td>\n",
              "    </tr>\n",
              "    <tr>\n",
              "      <th>11</th>\n",
              "      <td>14.422000</td>\n",
              "      <td>121.008200</td>\n",
              "    </tr>\n",
              "    <tr>\n",
              "      <th>12</th>\n",
              "      <td>14.437400</td>\n",
              "      <td>120.990600</td>\n",
              "    </tr>\n",
              "    <tr>\n",
              "      <th>13</th>\n",
              "      <td>14.435900</td>\n",
              "      <td>121.000500</td>\n",
              "    </tr>\n",
              "    <tr>\n",
              "      <th>14</th>\n",
              "      <td>14.443200</td>\n",
              "      <td>121.003400</td>\n",
              "    </tr>\n",
              "    <tr>\n",
              "      <th>15</th>\n",
              "      <td>14.445335</td>\n",
              "      <td>120.988404</td>\n",
              "    </tr>\n",
              "    <tr>\n",
              "      <th>16</th>\n",
              "      <td>14.420500</td>\n",
              "      <td>121.002500</td>\n",
              "    </tr>\n",
              "    <tr>\n",
              "      <th>17</th>\n",
              "      <td>14.450560</td>\n",
              "      <td>120.982780</td>\n",
              "    </tr>\n",
              "  </tbody>\n",
              "</table>\n",
              "</div>"
            ],
            "text/plain": [
              "     Latitude   Longitude\n",
              "0   14.403200  121.008300\n",
              "1   14.432100  121.014000\n",
              "2   14.450800  121.005500\n",
              "3   14.480700  120.981200\n",
              "4   14.478700  120.976900\n",
              "5   14.477900  120.980100\n",
              "6   14.467700  120.994800\n",
              "7   14.479300  120.986200\n",
              "8   14.447400  120.974700\n",
              "9   14.458100  120.971900\n",
              "10  14.452000  120.984600\n",
              "11  14.422000  121.008200\n",
              "12  14.437400  120.990600\n",
              "13  14.435900  121.000500\n",
              "14  14.443200  121.003400\n",
              "15  14.445335  120.988404\n",
              "16  14.420500  121.002500\n",
              "17  14.450560  120.982780"
            ]
          },
          "metadata": {},
          "execution_count": 25
        }
      ]
    },
    {
      "cell_type": "code",
      "metadata": {
        "colab": {
          "base_uri": "https://localhost:8080/",
          "height": 296
        },
        "id": "p7YDgU8G7FWN",
        "outputId": "2bae419f-4011-45d3-d530-a5c64612b985"
      },
      "source": [
        "plt.scatter(df['Latitude'],df['Longitude'])"
      ],
      "execution_count": null,
      "outputs": [
        {
          "output_type": "execute_result",
          "data": {
            "text/plain": [
              "<matplotlib.collections.PathCollection at 0x7f8edb070d10>"
            ]
          },
          "metadata": {},
          "execution_count": 26
        },
        {
          "output_type": "display_data",
          "data": {
            "image/png": "[encoded data removed]",
            "text/plain": [
              "<Figure size 432x288 with 1 Axes>"
            ]
          },
          "metadata": {}
        }
      ]
    },
    {
      "cell_type": "code",
      "metadata": {
        "colab": {
          "base_uri": "https://localhost:8080/"
        },
        "id": "7QTiuxJ4lzw-",
        "outputId": "938ef9d2-f25a-44b7-9f8a-7224b6382521"
      },
      "source": [
        "kmeans = KMeans(n_clusters = 3)\n",
        "kmeans\n"
      ],
      "execution_count": null,
      "outputs": [
        {
          "output_type": "execute_result",
          "data": {
            "text/plain": [
              "KMeans(algorithm='auto', copy_x=True, init='k-means++', max_iter=300,\n",
              "       n_clusters=3, n_init=10, n_jobs=None, precompute_distances='auto',\n",
              "       random_state=None, tol=0.0001, verbose=0)"
            ]
          },
          "metadata": {},
          "execution_count": 27
        }
      ]
    },
    {
      "cell_type": "code",
      "metadata": {
        "colab": {
          "base_uri": "https://localhost:8080/"
        },
        "id": "zoYeGyBBoC70",
        "outputId": "bebd7bda-0552-4ead-9047-15d65cee06b1"
      },
      "source": [
        "y_predicted = kmeans.fit_predict(df[['Latitude','Longitude']])\n",
        "y_predicted"
      ],
      "execution_count": null,
      "outputs": [
        {
          "output_type": "execute_result",
          "data": {
            "text/plain": [
              "array([2, 2, 1, 0, 0, 0, 0, 0, 1, 0, 1, 2, 1, 1, 1, 1, 2, 1], dtype=int32)"
            ]
          },
          "metadata": {},
          "execution_count": 28
        }
      ]
    },
    {
      "cell_type": "code",
      "metadata": {
        "colab": {
          "base_uri": "https://localhost:8080/",
          "height": 602
        },
        "id": "WSZOaYgE6NWf",
        "outputId": "35c115f6-d2b1-4ca5-8bd0-c89cc9f2540a"
      },
      "source": [
        "df['Cluster'] = y_predicted\n",
        "df"
      ],
      "execution_count": null,
      "outputs": [
        {
          "output_type": "execute_result",
          "data": {
            "text/html": [
              "<div>\n",
              "<style scoped>\n",
              "    .dataframe tbody tr th:only-of-type {\n",
              "        vertical-align: middle;\n",
              "    }\n",
              "\n",
              "    .dataframe tbody tr th {\n",
              "        vertical-align: top;\n",
              "    }\n",
              "\n",
              "    .dataframe thead th {\n",
              "        text-align: right;\n",
              "    }\n",
              "</style>\n",
              "<table border=\"1\" class=\"dataframe\">\n",
              "  <thead>\n",
              "    <tr style=\"text-align: right;\">\n",
              "      <th></th>\n",
              "      <th>Barangay</th>\n",
              "      <th>Latitude</th>\n",
              "      <th>Longitude</th>\n",
              "      <th>Cluster</th>\n",
              "    </tr>\n",
              "  </thead>\n",
              "  <tbody>\n",
              "    <tr>\n",
              "      <th>0</th>\n",
              "      <td>Almanza Dos</td>\n",
              "      <td>14.403200</td>\n",
              "      <td>121.008300</td>\n",
              "      <td>2</td>\n",
              "    </tr>\n",
              "    <tr>\n",
              "      <th>1</th>\n",
              "      <td>Almanza Uno</td>\n",
              "      <td>14.432100</td>\n",
              "      <td>121.014000</td>\n",
              "      <td>2</td>\n",
              "    </tr>\n",
              "    <tr>\n",
              "      <th>2</th>\n",
              "      <td>B.F International Village</td>\n",
              "      <td>14.450800</td>\n",
              "      <td>121.005500</td>\n",
              "      <td>1</td>\n",
              "    </tr>\n",
              "    <tr>\n",
              "      <th>3</th>\n",
              "      <td>Daniel Fajardo</td>\n",
              "      <td>14.480700</td>\n",
              "      <td>120.981200</td>\n",
              "      <td>0</td>\n",
              "    </tr>\n",
              "    <tr>\n",
              "      <th>4</th>\n",
              "      <td>Elias Aldana</td>\n",
              "      <td>14.478700</td>\n",
              "      <td>120.976900</td>\n",
              "      <td>0</td>\n",
              "    </tr>\n",
              "    <tr>\n",
              "      <th>5</th>\n",
              "      <td>Ilaya</td>\n",
              "      <td>14.477900</td>\n",
              "      <td>120.980100</td>\n",
              "      <td>0</td>\n",
              "    </tr>\n",
              "    <tr>\n",
              "      <th>6</th>\n",
              "      <td>Manuyo Dos</td>\n",
              "      <td>14.467700</td>\n",
              "      <td>120.994800</td>\n",
              "      <td>0</td>\n",
              "    </tr>\n",
              "    <tr>\n",
              "      <th>7</th>\n",
              "      <td>Manuyo Uno</td>\n",
              "      <td>14.479300</td>\n",
              "      <td>120.986200</td>\n",
              "      <td>0</td>\n",
              "    </tr>\n",
              "    <tr>\n",
              "      <th>8</th>\n",
              "      <td>Pamplona Dos</td>\n",
              "      <td>14.447400</td>\n",
              "      <td>120.974700</td>\n",
              "      <td>1</td>\n",
              "    </tr>\n",
              "    <tr>\n",
              "      <th>9</th>\n",
              "      <td>Pamplona Uno</td>\n",
              "      <td>14.458100</td>\n",
              "      <td>120.971900</td>\n",
              "      <td>0</td>\n",
              "    </tr>\n",
              "    <tr>\n",
              "      <th>10</th>\n",
              "      <td>Pamplona Tres</td>\n",
              "      <td>14.452000</td>\n",
              "      <td>120.984600</td>\n",
              "      <td>1</td>\n",
              "    </tr>\n",
              "    <tr>\n",
              "      <th>11</th>\n",
              "      <td>Pilar</td>\n",
              "      <td>14.422000</td>\n",
              "      <td>121.008200</td>\n",
              "      <td>2</td>\n",
              "    </tr>\n",
              "    <tr>\n",
              "      <th>12</th>\n",
              "      <td>Talon Dos</td>\n",
              "      <td>14.437400</td>\n",
              "      <td>120.990600</td>\n",
              "      <td>1</td>\n",
              "    </tr>\n",
              "    <tr>\n",
              "      <th>13</th>\n",
              "      <td>Talon Kuatro</td>\n",
              "      <td>14.435900</td>\n",
              "      <td>121.000500</td>\n",
              "      <td>1</td>\n",
              "    </tr>\n",
              "    <tr>\n",
              "      <th>14</th>\n",
              "      <td>Talon Tres</td>\n",
              "      <td>14.443200</td>\n",
              "      <td>121.003400</td>\n",
              "      <td>1</td>\n",
              "    </tr>\n",
              "    <tr>\n",
              "      <th>15</th>\n",
              "      <td>Talon Uno</td>\n",
              "      <td>14.445335</td>\n",
              "      <td>120.988404</td>\n",
              "      <td>1</td>\n",
              "    </tr>\n",
              "    <tr>\n",
              "      <th>16</th>\n",
              "      <td>Talon Singko</td>\n",
              "      <td>14.420500</td>\n",
              "      <td>121.002500</td>\n",
              "      <td>2</td>\n",
              "    </tr>\n",
              "    <tr>\n",
              "      <th>17</th>\n",
              "      <td>Zapote</td>\n",
              "      <td>14.450560</td>\n",
              "      <td>120.982780</td>\n",
              "      <td>1</td>\n",
              "    </tr>\n",
              "  </tbody>\n",
              "</table>\n",
              "</div>"
            ],
            "text/plain": [
              "                     Barangay   Latitude   Longitude  Cluster\n",
              "0                 Almanza Dos  14.403200  121.008300        2\n",
              "1                 Almanza Uno  14.432100  121.014000        2\n",
              "2   B.F International Village  14.450800  121.005500        1\n",
              "3              Daniel Fajardo  14.480700  120.981200        0\n",
              "4                Elias Aldana  14.478700  120.976900        0\n",
              "5                       Ilaya  14.477900  120.980100        0\n",
              "6                  Manuyo Dos  14.467700  120.994800        0\n",
              "7                  Manuyo Uno  14.479300  120.986200        0\n",
              "8                Pamplona Dos  14.447400  120.974700        1\n",
              "9                Pamplona Uno  14.458100  120.971900        0\n",
              "10              Pamplona Tres  14.452000  120.984600        1\n",
              "11                      Pilar  14.422000  121.008200        2\n",
              "12                  Talon Dos  14.437400  120.990600        1\n",
              "13               Talon Kuatro  14.435900  121.000500        1\n",
              "14                 Talon Tres  14.443200  121.003400        1\n",
              "15                  Talon Uno  14.445335  120.988404        1\n",
              "16               Talon Singko  14.420500  121.002500        2\n",
              "17                     Zapote  14.450560  120.982780        1"
            ]
          },
          "metadata": {},
          "execution_count": 29
        }
      ]
    },
    {
      "cell_type": "code",
      "metadata": {
        "colab": {
          "base_uri": "https://localhost:8080/",
          "height": 313
        },
        "id": "SJVUXYeS8UW-",
        "outputId": "f74078cf-e1c0-4733-93c2-737735303854"
      },
      "source": [
        "df1 = df[df.Cluster==0]\n",
        "df2 = df[df.Cluster==1]\n",
        "df3 = df[df.Cluster==2]\n",
        "\n",
        "plt.scatter(df1.Latitude,df1['Longitude'],color='red')\n",
        "plt.scatter(df2.Latitude,df2['Longitude'],color='green')\n",
        "plt.scatter(df3.Latitude,df3['Longitude'],color='blue')\n",
        "\n",
        "\n",
        "plt.xlabel('Latitude')\n",
        "plt.ylabel('Longitude')\n"
      ],
      "execution_count": null,
      "outputs": [
        {
          "output_type": "execute_result",
          "data": {
            "text/plain": [
              "Text(0, 0.5, 'Longitude')"
            ]
          },
          "metadata": {},
          "execution_count": 30
        },
        {
          "output_type": "display_data",
          "data": {
            "image/png": "[encoded data removed]",
            "text/plain": [
              "<Figure size 432x288 with 1 Axes>"
            ]
          },
          "metadata": {}
        }
      ]
    },
    {
      "cell_type": "code",
      "metadata": {
        "colab": {
          "base_uri": "https://localhost:8080/"
        },
        "id": "LxrnIeYYEiU0",
        "outputId": "08966433-aa69-41aa-97bc-9d4d25e4a45b"
      },
      "source": [
        "centers =  kmeans.cluster_centers_\n",
        "centers"
      ],
      "execution_count": null,
      "outputs": [
        {
          "output_type": "execute_result",
          "data": {
            "text/plain": [
              "array([[ 14.47373333, 120.98185   ],\n",
              "       [ 14.44532438, 120.9913105 ],\n",
              "       [ 14.41945   , 121.00825   ]])"
            ]
          },
          "metadata": {},
          "execution_count": 31
        }
      ]
    },
    {
      "cell_type": "code",
      "metadata": {
        "colab": {
          "base_uri": "https://localhost:8080/",
          "height": 313
        },
        "id": "WAA5THyNEn2A",
        "outputId": "5ff8bf1d-b2f4-4f57-9c68-3caec2a11b34"
      },
      "source": [
        "df1 = df[df.Cluster==0]\n",
        "df2 = df[df.Cluster==1]\n",
        "df3 = df[df.Cluster==2]\n",
        "\n",
        "plt.scatter(df1.Latitude,df1['Longitude'],color='red')\n",
        "plt.scatter(df2.Latitude,df2['Longitude'],color='green')\n",
        "plt.scatter(df3.Latitude,df3['Longitude'],color='blue')\n",
        "plt.scatter(centers[:,0], centers[:,1], color = 'black', marker='*')\n",
        "\n",
        "plt.xlabel('Latitude')\n",
        "plt.ylabel('Longitude')"
      ],
      "execution_count": null,
      "outputs": [
        {
          "output_type": "execute_result",
          "data": {
            "text/plain": [
              "Text(0, 0.5, 'Longitude')"
            ]
          },
          "metadata": {},
          "execution_count": 32
        },
        {
          "output_type": "display_data",
          "data": {
            "image/png": "[encoded data removed]",
            "text/plain": [
              "<Figure size 432x288 with 1 Axes>"
            ]
          },
          "metadata": {}
        }
      ]
    },
    {
      "cell_type": "code",
      "metadata": {
        "colab": {
          "base_uri": "https://localhost:8080/",
          "height": 602
        },
        "id": "diyWjKfrWmhJ",
        "outputId": "ba260210-7095-46be-b64d-b8c165cd669e"
      },
      "source": [
        "df"
      ],
      "execution_count": null,
      "outputs": [
        {
          "output_type": "execute_result",
          "data": {
            "text/html": [
              "<div>\n",
              "<style scoped>\n",
              "    .dataframe tbody tr th:only-of-type {\n",
              "        vertical-align: middle;\n",
              "    }\n",
              "\n",
              "    .dataframe tbody tr th {\n",
              "        vertical-align: top;\n",
              "    }\n",
              "\n",
              "    .dataframe thead th {\n",
              "        text-align: right;\n",
              "    }\n",
              "</style>\n",
              "<table border=\"1\" class=\"dataframe\">\n",
              "  <thead>\n",
              "    <tr style=\"text-align: right;\">\n",
              "      <th></th>\n",
              "      <th>Barangay</th>\n",
              "      <th>Latitude</th>\n",
              "      <th>Longitude</th>\n",
              "      <th>Cluster</th>\n",
              "    </tr>\n",
              "  </thead>\n",
              "  <tbody>\n",
              "    <tr>\n",
              "      <th>0</th>\n",
              "      <td>Almanza Dos</td>\n",
              "      <td>14.403200</td>\n",
              "      <td>121.008300</td>\n",
              "      <td>2</td>\n",
              "    </tr>\n",
              "    <tr>\n",
              "      <th>1</th>\n",
              "      <td>Almanza Uno</td>\n",
              "      <td>14.432100</td>\n",
              "      <td>121.014000</td>\n",
              "      <td>2</td>\n",
              "    </tr>\n",
              "    <tr>\n",
              "      <th>2</th>\n",
              "      <td>B.F International Village</td>\n",
              "      <td>14.450800</td>\n",
              "      <td>121.005500</td>\n",
              "      <td>1</td>\n",
              "    </tr>\n",
              "    <tr>\n",
              "      <th>3</th>\n",
              "      <td>Daniel Fajardo</td>\n",
              "      <td>14.480700</td>\n",
              "      <td>120.981200</td>\n",
              "      <td>0</td>\n",
              "    </tr>\n",
              "    <tr>\n",
              "      <th>4</th>\n",
              "      <td>Elias Aldana</td>\n",
              "      <td>14.478700</td>\n",
              "      <td>120.976900</td>\n",
              "      <td>0</td>\n",
              "    </tr>\n",
              "    <tr>\n",
              "      <th>5</th>\n",
              "      <td>Ilaya</td>\n",
              "      <td>14.477900</td>\n",
              "      <td>120.980100</td>\n",
              "      <td>0</td>\n",
              "    </tr>\n",
              "    <tr>\n",
              "      <th>6</th>\n",
              "      <td>Manuyo Dos</td>\n",
              "      <td>14.467700</td>\n",
              "      <td>120.994800</td>\n",
              "      <td>0</td>\n",
              "    </tr>\n",
              "    <tr>\n",
              "      <th>7</th>\n",
              "      <td>Manuyo Uno</td>\n",
              "      <td>14.479300</td>\n",
              "      <td>120.986200</td>\n",
              "      <td>0</td>\n",
              "    </tr>\n",
              "    <tr>\n",
              "      <th>8</th>\n",
              "      <td>Pamplona Dos</td>\n",
              "      <td>14.447400</td>\n",
              "      <td>120.974700</td>\n",
              "      <td>1</td>\n",
              "    </tr>\n",
              "    <tr>\n",
              "      <th>9</th>\n",
              "      <td>Pamplona Uno</td>\n",
              "      <td>14.458100</td>\n",
              "      <td>120.971900</td>\n",
              "      <td>0</td>\n",
              "    </tr>\n",
              "    <tr>\n",
              "      <th>10</th>\n",
              "      <td>Pamplona Tres</td>\n",
              "      <td>14.452000</td>\n",
              "      <td>120.984600</td>\n",
              "      <td>1</td>\n",
              "    </tr>\n",
              "    <tr>\n",
              "      <th>11</th>\n",
              "      <td>Pilar</td>\n",
              "      <td>14.422000</td>\n",
              "      <td>121.008200</td>\n",
              "      <td>2</td>\n",
              "    </tr>\n",
              "    <tr>\n",
              "      <th>12</th>\n",
              "      <td>Talon Dos</td>\n",
              "      <td>14.437400</td>\n",
              "      <td>120.990600</td>\n",
              "      <td>1</td>\n",
              "    </tr>\n",
              "    <tr>\n",
              "      <th>13</th>\n",
              "      <td>Talon Kuatro</td>\n",
              "      <td>14.435900</td>\n",
              "      <td>121.000500</td>\n",
              "      <td>1</td>\n",
              "    </tr>\n",
              "    <tr>\n",
              "      <th>14</th>\n",
              "      <td>Talon Tres</td>\n",
              "      <td>14.443200</td>\n",
              "      <td>121.003400</td>\n",
              "      <td>1</td>\n",
              "    </tr>\n",
              "    <tr>\n",
              "      <th>15</th>\n",
              "      <td>Talon Uno</td>\n",
              "      <td>14.445335</td>\n",
              "      <td>120.988404</td>\n",
              "      <td>1</td>\n",
              "    </tr>\n",
              "    <tr>\n",
              "      <th>16</th>\n",
              "      <td>Talon Singko</td>\n",
              "      <td>14.420500</td>\n",
              "      <td>121.002500</td>\n",
              "      <td>2</td>\n",
              "    </tr>\n",
              "    <tr>\n",
              "      <th>17</th>\n",
              "      <td>Zapote</td>\n",
              "      <td>14.450560</td>\n",
              "      <td>120.982780</td>\n",
              "      <td>1</td>\n",
              "    </tr>\n",
              "  </tbody>\n",
              "</table>\n",
              "</div>"
            ],
            "text/plain": [
              "                     Barangay   Latitude   Longitude  Cluster\n",
              "0                 Almanza Dos  14.403200  121.008300        2\n",
              "1                 Almanza Uno  14.432100  121.014000        2\n",
              "2   B.F International Village  14.450800  121.005500        1\n",
              "3              Daniel Fajardo  14.480700  120.981200        0\n",
              "4                Elias Aldana  14.478700  120.976900        0\n",
              "5                       Ilaya  14.477900  120.980100        0\n",
              "6                  Manuyo Dos  14.467700  120.994800        0\n",
              "7                  Manuyo Uno  14.479300  120.986200        0\n",
              "8                Pamplona Dos  14.447400  120.974700        1\n",
              "9                Pamplona Uno  14.458100  120.971900        0\n",
              "10              Pamplona Tres  14.452000  120.984600        1\n",
              "11                      Pilar  14.422000  121.008200        2\n",
              "12                  Talon Dos  14.437400  120.990600        1\n",
              "13               Talon Kuatro  14.435900  121.000500        1\n",
              "14                 Talon Tres  14.443200  121.003400        1\n",
              "15                  Talon Uno  14.445335  120.988404        1\n",
              "16               Talon Singko  14.420500  121.002500        2\n",
              "17                     Zapote  14.450560  120.982780        1"
            ]
          },
          "metadata": {},
          "execution_count": 33
        }
      ]
    }
  ]
}